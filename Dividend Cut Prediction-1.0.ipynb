{
 "cells": [
  {
   "cell_type": "markdown",
   "metadata": {},
   "source": [
    "### Divident Cut Prediction"
   ]
  },
  {
   "cell_type": "markdown",
   "metadata": {},
   "source": [
    "This is an initial walkthrough of the data. Model has been built on selected features and results have been analyzed. I have attempted to get the gist of the data through a very high level EDA"
   ]
  },
  {
   "cell_type": "markdown",
   "metadata": {},
   "source": [
    "As per my understanding Dividend cut predictin is a classification problem. I did not modulate it as a Time-Series problem due to two reasons. The year wise data is not enough to interperate about any seasonal trend. Multivariate analysis would lag accuracy since knowledge of all the features to provide multivariate is crucial."
   ]
  },
  {
   "cell_type": "markdown",
   "metadata": {},
   "source": [
    "In the limited timeframe it's not practical to understand all the features. So I will start with limited features then will try to expand the features based on the insight I get in this interpolation."
   ]
  },
  {
   "cell_type": "code",
   "execution_count": 338,
   "metadata": {
    "collapsed": true
   },
   "outputs": [],
   "source": [
    "import numpy as np\n",
    "import pandas as pd\n",
    "\n",
    "import matplotlib.pyplot as plt     # for visualization\n",
    "%matplotlib inline\n",
    "from sklearn.model_selection import train_test_split\n",
    "from sklearn.metrics import mean_squared_error\n",
    "from sklearn import linear_model\n",
    "import seaborn as sns\n",
    "\n",
    "from sklearn.preprocessing import StandardScaler\n",
    "from sklearn.model_selection import train_test_split\n",
    "from sklearn import metrics\n",
    "from sklearn.metrics import f1_score, roc_auc_score\n",
    "from sklearn.linear_model import LogisticRegression\n",
    "from sklearn.ensemble import RandomForestClassifier\n",
    "from sklearn.model_selection import GridSearchCV\n",
    "from sklearn.neural_network import MLPClassifier\n",
    "\n",
    "from imblearn.pipeline import make_pipeline as make_pipeline_imb\n",
    "from imblearn.over_sampling import SMOTE\n",
    "from imblearn.metrics import classification_report_imbalanced\n",
    "import xgboost as xgb\n",
    "from xgboost import XGBClassifier\n",
    "\n",
    "from sklearn.model_selection import train_test_split\n",
    "from sklearn.metrics import accuracy_score\n"
   ]
  },
  {
   "cell_type": "code",
   "execution_count": 339,
   "metadata": {
    "collapsed": true
   },
   "outputs": [],
   "source": [
    "df = pd.read_csv('ds_assessment_data_2008_2016.csv')"
   ]
  },
  {
   "cell_type": "markdown",
   "metadata": {},
   "source": [
    "Glance through the data to get very high level idea"
   ]
  },
  {
   "cell_type": "code",
   "execution_count": 340,
   "metadata": {},
   "outputs": [
    {
     "data": {
      "text/html": [
       "<div>\n",
       "<style scoped>\n",
       "    .dataframe tbody tr th:only-of-type {\n",
       "        vertical-align: middle;\n",
       "    }\n",
       "\n",
       "    .dataframe tbody tr th {\n",
       "        vertical-align: top;\n",
       "    }\n",
       "\n",
       "    .dataframe thead th {\n",
       "        text-align: right;\n",
       "    }\n",
       "</style>\n",
       "<table border=\"1\" class=\"dataframe\">\n",
       "  <thead>\n",
       "    <tr style=\"text-align: right;\">\n",
       "      <th></th>\n",
       "      <th>id</th>\n",
       "      <th>calendar_end</th>\n",
       "      <th>fiscal_year_end_year</th>\n",
       "      <th>Dividend</th>\n",
       "      <th>Dividend_returns</th>\n",
       "      <th>ASSETS</th>\n",
       "      <th>BFNG</th>\n",
       "      <th>BPS</th>\n",
       "      <th>BPS_TANG</th>\n",
       "      <th>CAPEX</th>\n",
       "      <th>...</th>\n",
       "      <th>S_M_EXP_returns</th>\n",
       "      <th>EBITDAR_returns</th>\n",
       "      <th>REV_TOT_returns</th>\n",
       "      <th>EPSRD_returns</th>\n",
       "      <th>payout_ratio</th>\n",
       "      <th>earnings_cover</th>\n",
       "      <th>cashflow_cover</th>\n",
       "      <th>debt_factor</th>\n",
       "      <th>profitability</th>\n",
       "      <th>financial_health_score</th>\n",
       "    </tr>\n",
       "  </thead>\n",
       "  <tbody>\n",
       "    <tr>\n",
       "      <th>0</th>\n",
       "      <td>c141</td>\n",
       "      <td>2010-12-31</td>\n",
       "      <td>2010</td>\n",
       "      <td>10.800</td>\n",
       "      <td>NaN</td>\n",
       "      <td>NaN</td>\n",
       "      <td>NaN</td>\n",
       "      <td>NaN</td>\n",
       "      <td>NaN</td>\n",
       "      <td>NaN</td>\n",
       "      <td>...</td>\n",
       "      <td>NaN</td>\n",
       "      <td>NaN</td>\n",
       "      <td>NaN</td>\n",
       "      <td>NaN</td>\n",
       "      <td>0.263415</td>\n",
       "      <td>3.796296</td>\n",
       "      <td>NaN</td>\n",
       "      <td>NaN</td>\n",
       "      <td>0.003902</td>\n",
       "      <td>1.0</td>\n",
       "    </tr>\n",
       "    <tr>\n",
       "      <th>1</th>\n",
       "      <td>c141</td>\n",
       "      <td>2011-12-31</td>\n",
       "      <td>2011</td>\n",
       "      <td>11.400</td>\n",
       "      <td>0.055556</td>\n",
       "      <td>NaN</td>\n",
       "      <td>NaN</td>\n",
       "      <td>NaN</td>\n",
       "      <td>NaN</td>\n",
       "      <td>NaN</td>\n",
       "      <td>...</td>\n",
       "      <td>NaN</td>\n",
       "      <td>NaN</td>\n",
       "      <td>NaN</td>\n",
       "      <td>NaN</td>\n",
       "      <td>0.104779</td>\n",
       "      <td>9.543860</td>\n",
       "      <td>NaN</td>\n",
       "      <td>NaN</td>\n",
       "      <td>0.007134</td>\n",
       "      <td>1.0</td>\n",
       "    </tr>\n",
       "    <tr>\n",
       "      <th>2</th>\n",
       "      <td>c141</td>\n",
       "      <td>2012-12-31</td>\n",
       "      <td>2012</td>\n",
       "      <td>12.400</td>\n",
       "      <td>0.087719</td>\n",
       "      <td>NaN</td>\n",
       "      <td>NaN</td>\n",
       "      <td>NaN</td>\n",
       "      <td>NaN</td>\n",
       "      <td>NaN</td>\n",
       "      <td>...</td>\n",
       "      <td>NaN</td>\n",
       "      <td>NaN</td>\n",
       "      <td>NaN</td>\n",
       "      <td>NaN</td>\n",
       "      <td>0.094946</td>\n",
       "      <td>10.532258</td>\n",
       "      <td>NaN</td>\n",
       "      <td>NaN</td>\n",
       "      <td>0.002238</td>\n",
       "      <td>1.0</td>\n",
       "    </tr>\n",
       "    <tr>\n",
       "      <th>3</th>\n",
       "      <td>c141</td>\n",
       "      <td>2013-12-31</td>\n",
       "      <td>2013</td>\n",
       "      <td>13.200</td>\n",
       "      <td>0.064516</td>\n",
       "      <td>NaN</td>\n",
       "      <td>NaN</td>\n",
       "      <td>NaN</td>\n",
       "      <td>NaN</td>\n",
       "      <td>NaN</td>\n",
       "      <td>...</td>\n",
       "      <td>NaN</td>\n",
       "      <td>NaN</td>\n",
       "      <td>NaN</td>\n",
       "      <td>NaN</td>\n",
       "      <td>NaN</td>\n",
       "      <td>NaN</td>\n",
       "      <td>NaN</td>\n",
       "      <td>NaN</td>\n",
       "      <td>NaN</td>\n",
       "      <td>0.0</td>\n",
       "    </tr>\n",
       "    <tr>\n",
       "      <th>4</th>\n",
       "      <td>c141</td>\n",
       "      <td>2014-12-31</td>\n",
       "      <td>2014</td>\n",
       "      <td>17.600</td>\n",
       "      <td>0.333333</td>\n",
       "      <td>NaN</td>\n",
       "      <td>NaN</td>\n",
       "      <td>NaN</td>\n",
       "      <td>NaN</td>\n",
       "      <td>NaN</td>\n",
       "      <td>...</td>\n",
       "      <td>NaN</td>\n",
       "      <td>NaN</td>\n",
       "      <td>NaN</td>\n",
       "      <td>NaN</td>\n",
       "      <td>NaN</td>\n",
       "      <td>NaN</td>\n",
       "      <td>NaN</td>\n",
       "      <td>NaN</td>\n",
       "      <td>NaN</td>\n",
       "      <td>0.0</td>\n",
       "    </tr>\n",
       "    <tr>\n",
       "      <th>5</th>\n",
       "      <td>c141</td>\n",
       "      <td>2015-12-31</td>\n",
       "      <td>2015</td>\n",
       "      <td>17.600</td>\n",
       "      <td>0.000000</td>\n",
       "      <td>NaN</td>\n",
       "      <td>NaN</td>\n",
       "      <td>NaN</td>\n",
       "      <td>NaN</td>\n",
       "      <td>NaN</td>\n",
       "      <td>...</td>\n",
       "      <td>NaN</td>\n",
       "      <td>NaN</td>\n",
       "      <td>NaN</td>\n",
       "      <td>NaN</td>\n",
       "      <td>NaN</td>\n",
       "      <td>NaN</td>\n",
       "      <td>NaN</td>\n",
       "      <td>NaN</td>\n",
       "      <td>NaN</td>\n",
       "      <td>0.0</td>\n",
       "    </tr>\n",
       "    <tr>\n",
       "      <th>6</th>\n",
       "      <td>c141</td>\n",
       "      <td>2016-12-31</td>\n",
       "      <td>2016</td>\n",
       "      <td>17.600</td>\n",
       "      <td>0.000000</td>\n",
       "      <td>NaN</td>\n",
       "      <td>NaN</td>\n",
       "      <td>NaN</td>\n",
       "      <td>NaN</td>\n",
       "      <td>NaN</td>\n",
       "      <td>...</td>\n",
       "      <td>NaN</td>\n",
       "      <td>NaN</td>\n",
       "      <td>NaN</td>\n",
       "      <td>NaN</td>\n",
       "      <td>NaN</td>\n",
       "      <td>NaN</td>\n",
       "      <td>NaN</td>\n",
       "      <td>NaN</td>\n",
       "      <td>NaN</td>\n",
       "      <td>0.0</td>\n",
       "    </tr>\n",
       "    <tr>\n",
       "      <th>7</th>\n",
       "      <td>c142</td>\n",
       "      <td>2014-12-31</td>\n",
       "      <td>2014</td>\n",
       "      <td>68.750</td>\n",
       "      <td>NaN</td>\n",
       "      <td>0.056086</td>\n",
       "      <td>0.096204</td>\n",
       "      <td>NaN</td>\n",
       "      <td>NaN</td>\n",
       "      <td>0.070300</td>\n",
       "      <td>...</td>\n",
       "      <td>NaN</td>\n",
       "      <td>NaN</td>\n",
       "      <td>NaN</td>\n",
       "      <td>NaN</td>\n",
       "      <td>0.723684</td>\n",
       "      <td>1.381818</td>\n",
       "      <td>2.149818</td>\n",
       "      <td>NaN</td>\n",
       "      <td>0.123614</td>\n",
       "      <td>2.0</td>\n",
       "    </tr>\n",
       "    <tr>\n",
       "      <th>8</th>\n",
       "      <td>c142</td>\n",
       "      <td>2015-12-31</td>\n",
       "      <td>2015</td>\n",
       "      <td>75.450</td>\n",
       "      <td>0.097455</td>\n",
       "      <td>0.057990</td>\n",
       "      <td>0.071493</td>\n",
       "      <td>NaN</td>\n",
       "      <td>NaN</td>\n",
       "      <td>0.048667</td>\n",
       "      <td>...</td>\n",
       "      <td>NaN</td>\n",
       "      <td>NaN</td>\n",
       "      <td>NaN</td>\n",
       "      <td>NaN</td>\n",
       "      <td>0.922852</td>\n",
       "      <td>1.083597</td>\n",
       "      <td>1.985421</td>\n",
       "      <td>NaN</td>\n",
       "      <td>0.092953</td>\n",
       "      <td>2.0</td>\n",
       "    </tr>\n",
       "    <tr>\n",
       "      <th>9</th>\n",
       "      <td>c142</td>\n",
       "      <td>2016-12-31</td>\n",
       "      <td>2016</td>\n",
       "      <td>52.200</td>\n",
       "      <td>-0.308151</td>\n",
       "      <td>0.053828</td>\n",
       "      <td>NaN</td>\n",
       "      <td>NaN</td>\n",
       "      <td>NaN</td>\n",
       "      <td>0.020825</td>\n",
       "      <td>...</td>\n",
       "      <td>NaN</td>\n",
       "      <td>NaN</td>\n",
       "      <td>NaN</td>\n",
       "      <td>NaN</td>\n",
       "      <td>0.839228</td>\n",
       "      <td>1.191571</td>\n",
       "      <td>NaN</td>\n",
       "      <td>NaN</td>\n",
       "      <td>0.096288</td>\n",
       "      <td>1.0</td>\n",
       "    </tr>\n",
       "    <tr>\n",
       "      <th>10</th>\n",
       "      <td>c143</td>\n",
       "      <td>2011-12-31</td>\n",
       "      <td>2011</td>\n",
       "      <td>36.275</td>\n",
       "      <td>NaN</td>\n",
       "      <td>0.042500</td>\n",
       "      <td>NaN</td>\n",
       "      <td>0.595200</td>\n",
       "      <td>NaN</td>\n",
       "      <td>0.073624</td>\n",
       "      <td>...</td>\n",
       "      <td>NaN</td>\n",
       "      <td>NaN</td>\n",
       "      <td>NaN</td>\n",
       "      <td>NaN</td>\n",
       "      <td>0.446187</td>\n",
       "      <td>2.241213</td>\n",
       "      <td>3.139904</td>\n",
       "      <td>0.760288</td>\n",
       "      <td>0.164411</td>\n",
       "      <td>3.0</td>\n",
       "    </tr>\n",
       "    <tr>\n",
       "      <th>11</th>\n",
       "      <td>c143</td>\n",
       "      <td>2012-12-31</td>\n",
       "      <td>2012</td>\n",
       "      <td>41.625</td>\n",
       "      <td>0.147484</td>\n",
       "      <td>0.048009</td>\n",
       "      <td>NaN</td>\n",
       "      <td>0.671542</td>\n",
       "      <td>NaN</td>\n",
       "      <td>0.097114</td>\n",
       "      <td>...</td>\n",
       "      <td>NaN</td>\n",
       "      <td>NaN</td>\n",
       "      <td>NaN</td>\n",
       "      <td>NaN</td>\n",
       "      <td>0.680147</td>\n",
       "      <td>1.470270</td>\n",
       "      <td>1.956757</td>\n",
       "      <td>NaN</td>\n",
       "      <td>0.164956</td>\n",
       "      <td>2.0</td>\n",
       "    </tr>\n",
       "    <tr>\n",
       "      <th>12</th>\n",
       "      <td>c143</td>\n",
       "      <td>2013-12-31</td>\n",
       "      <td>2013</td>\n",
       "      <td>45.650</td>\n",
       "      <td>0.096697</td>\n",
       "      <td>0.052082</td>\n",
       "      <td>0.133129</td>\n",
       "      <td>0.808503</td>\n",
       "      <td>NaN</td>\n",
       "      <td>0.075278</td>\n",
       "      <td>...</td>\n",
       "      <td>NaN</td>\n",
       "      <td>NaN</td>\n",
       "      <td>NaN</td>\n",
       "      <td>NaN</td>\n",
       "      <td>0.628788</td>\n",
       "      <td>1.590361</td>\n",
       "      <td>2.324206</td>\n",
       "      <td>1.155844</td>\n",
       "      <td>0.178408</td>\n",
       "      <td>3.0</td>\n",
       "    </tr>\n",
       "    <tr>\n",
       "      <th>13</th>\n",
       "      <td>c143</td>\n",
       "      <td>2014-12-31</td>\n",
       "      <td>2014</td>\n",
       "      <td>49.450</td>\n",
       "      <td>0.083242</td>\n",
       "      <td>0.056086</td>\n",
       "      <td>0.168226</td>\n",
       "      <td>0.962287</td>\n",
       "      <td>NaN</td>\n",
       "      <td>0.070300</td>\n",
       "      <td>...</td>\n",
       "      <td>NaN</td>\n",
       "      <td>NaN</td>\n",
       "      <td>NaN</td>\n",
       "      <td>NaN</td>\n",
       "      <td>0.518344</td>\n",
       "      <td>1.929221</td>\n",
       "      <td>2.988878</td>\n",
       "      <td>NaN</td>\n",
       "      <td>0.216119</td>\n",
       "      <td>2.0</td>\n",
       "    </tr>\n",
       "    <tr>\n",
       "      <th>14</th>\n",
       "      <td>c143</td>\n",
       "      <td>2015-12-31</td>\n",
       "      <td>2015</td>\n",
       "      <td>53.250</td>\n",
       "      <td>0.076845</td>\n",
       "      <td>0.058001</td>\n",
       "      <td>0.103595</td>\n",
       "      <td>0.936317</td>\n",
       "      <td>NaN</td>\n",
       "      <td>0.048667</td>\n",
       "      <td>...</td>\n",
       "      <td>NaN</td>\n",
       "      <td>NaN</td>\n",
       "      <td>NaN</td>\n",
       "      <td>NaN</td>\n",
       "      <td>1.261848</td>\n",
       "      <td>0.792488</td>\n",
       "      <td>2.073239</td>\n",
       "      <td>1.051846</td>\n",
       "      <td>0.168777</td>\n",
       "      <td>2.0</td>\n",
       "    </tr>\n",
       "    <tr>\n",
       "      <th>15</th>\n",
       "      <td>c143</td>\n",
       "      <td>2016-12-31</td>\n",
       "      <td>2016</td>\n",
       "      <td>39.750</td>\n",
       "      <td>-0.253521</td>\n",
       "      <td>0.053827</td>\n",
       "      <td>0.114828</td>\n",
       "      <td>0.898415</td>\n",
       "      <td>NaN</td>\n",
       "      <td>0.020825</td>\n",
       "      <td>...</td>\n",
       "      <td>NaN</td>\n",
       "      <td>NaN</td>\n",
       "      <td>NaN</td>\n",
       "      <td>NaN</td>\n",
       "      <td>0.586283</td>\n",
       "      <td>1.705660</td>\n",
       "      <td>NaN</td>\n",
       "      <td>0.735535</td>\n",
       "      <td>0.175722</td>\n",
       "      <td>2.0</td>\n",
       "    </tr>\n",
       "    <tr>\n",
       "      <th>16</th>\n",
       "      <td>c144</td>\n",
       "      <td>2011-12-31</td>\n",
       "      <td>2011</td>\n",
       "      <td>14.030</td>\n",
       "      <td>NaN</td>\n",
       "      <td>NaN</td>\n",
       "      <td>NaN</td>\n",
       "      <td>NaN</td>\n",
       "      <td>NaN</td>\n",
       "      <td>0.009743</td>\n",
       "      <td>...</td>\n",
       "      <td>NaN</td>\n",
       "      <td>NaN</td>\n",
       "      <td>NaN</td>\n",
       "      <td>NaN</td>\n",
       "      <td>-0.420060</td>\n",
       "      <td>-2.380613</td>\n",
       "      <td>1.973628</td>\n",
       "      <td>3.102335</td>\n",
       "      <td>-0.047797</td>\n",
       "      <td>1.0</td>\n",
       "    </tr>\n",
       "    <tr>\n",
       "      <th>17</th>\n",
       "      <td>c144</td>\n",
       "      <td>2012-12-31</td>\n",
       "      <td>2012</td>\n",
       "      <td>34.600</td>\n",
       "      <td>1.466144</td>\n",
       "      <td>NaN</td>\n",
       "      <td>NaN</td>\n",
       "      <td>NaN</td>\n",
       "      <td>NaN</td>\n",
       "      <td>0.013676</td>\n",
       "      <td>...</td>\n",
       "      <td>NaN</td>\n",
       "      <td>NaN</td>\n",
       "      <td>NaN</td>\n",
       "      <td>NaN</td>\n",
       "      <td>-2.471429</td>\n",
       "      <td>-0.404624</td>\n",
       "      <td>0.828960</td>\n",
       "      <td>NaN</td>\n",
       "      <td>-0.030904</td>\n",
       "      <td>0.0</td>\n",
       "    </tr>\n",
       "    <tr>\n",
       "      <th>18</th>\n",
       "      <td>c144</td>\n",
       "      <td>2013-12-31</td>\n",
       "      <td>2013</td>\n",
       "      <td>35.400</td>\n",
       "      <td>0.023121</td>\n",
       "      <td>NaN</td>\n",
       "      <td>-0.011041</td>\n",
       "      <td>NaN</td>\n",
       "      <td>NaN</td>\n",
       "      <td>0.006220</td>\n",
       "      <td>...</td>\n",
       "      <td>NaN</td>\n",
       "      <td>NaN</td>\n",
       "      <td>NaN</td>\n",
       "      <td>NaN</td>\n",
       "      <td>-0.280555</td>\n",
       "      <td>-3.564362</td>\n",
       "      <td>0.785311</td>\n",
       "      <td>NaN</td>\n",
       "      <td>-0.111511</td>\n",
       "      <td>0.0</td>\n",
       "    </tr>\n",
       "    <tr>\n",
       "      <th>19</th>\n",
       "      <td>c144</td>\n",
       "      <td>2014-12-31</td>\n",
       "      <td>2014</td>\n",
       "      <td>37.400</td>\n",
       "      <td>0.056497</td>\n",
       "      <td>NaN</td>\n",
       "      <td>-0.032730</td>\n",
       "      <td>1.468992</td>\n",
       "      <td>NaN</td>\n",
       "      <td>0.022184</td>\n",
       "      <td>...</td>\n",
       "      <td>NaN</td>\n",
       "      <td>NaN</td>\n",
       "      <td>NaN</td>\n",
       "      <td>NaN</td>\n",
       "      <td>-1.662784</td>\n",
       "      <td>-0.601401</td>\n",
       "      <td>0.866310</td>\n",
       "      <td>10.610613</td>\n",
       "      <td>-0.313687</td>\n",
       "      <td>0.0</td>\n",
       "    </tr>\n",
       "  </tbody>\n",
       "</table>\n",
       "<p>20 rows × 107 columns</p>\n",
       "</div>"
      ],
      "text/plain": [
       "      id calendar_end  fiscal_year_end_year  Dividend  Dividend_returns  \\\n",
       "0   c141   2010-12-31                  2010    10.800               NaN   \n",
       "1   c141   2011-12-31                  2011    11.400          0.055556   \n",
       "2   c141   2012-12-31                  2012    12.400          0.087719   \n",
       "3   c141   2013-12-31                  2013    13.200          0.064516   \n",
       "4   c141   2014-12-31                  2014    17.600          0.333333   \n",
       "5   c141   2015-12-31                  2015    17.600          0.000000   \n",
       "6   c141   2016-12-31                  2016    17.600          0.000000   \n",
       "7   c142   2014-12-31                  2014    68.750               NaN   \n",
       "8   c142   2015-12-31                  2015    75.450          0.097455   \n",
       "9   c142   2016-12-31                  2016    52.200         -0.308151   \n",
       "10  c143   2011-12-31                  2011    36.275               NaN   \n",
       "11  c143   2012-12-31                  2012    41.625          0.147484   \n",
       "12  c143   2013-12-31                  2013    45.650          0.096697   \n",
       "13  c143   2014-12-31                  2014    49.450          0.083242   \n",
       "14  c143   2015-12-31                  2015    53.250          0.076845   \n",
       "15  c143   2016-12-31                  2016    39.750         -0.253521   \n",
       "16  c144   2011-12-31                  2011    14.030               NaN   \n",
       "17  c144   2012-12-31                  2012    34.600          1.466144   \n",
       "18  c144   2013-12-31                  2013    35.400          0.023121   \n",
       "19  c144   2014-12-31                  2014    37.400          0.056497   \n",
       "\n",
       "      ASSETS      BFNG       BPS  BPS_TANG     CAPEX  ...  S_M_EXP_returns  \\\n",
       "0        NaN       NaN       NaN       NaN       NaN  ...              NaN   \n",
       "1        NaN       NaN       NaN       NaN       NaN  ...              NaN   \n",
       "2        NaN       NaN       NaN       NaN       NaN  ...              NaN   \n",
       "3        NaN       NaN       NaN       NaN       NaN  ...              NaN   \n",
       "4        NaN       NaN       NaN       NaN       NaN  ...              NaN   \n",
       "5        NaN       NaN       NaN       NaN       NaN  ...              NaN   \n",
       "6        NaN       NaN       NaN       NaN       NaN  ...              NaN   \n",
       "7   0.056086  0.096204       NaN       NaN  0.070300  ...              NaN   \n",
       "8   0.057990  0.071493       NaN       NaN  0.048667  ...              NaN   \n",
       "9   0.053828       NaN       NaN       NaN  0.020825  ...              NaN   \n",
       "10  0.042500       NaN  0.595200       NaN  0.073624  ...              NaN   \n",
       "11  0.048009       NaN  0.671542       NaN  0.097114  ...              NaN   \n",
       "12  0.052082  0.133129  0.808503       NaN  0.075278  ...              NaN   \n",
       "13  0.056086  0.168226  0.962287       NaN  0.070300  ...              NaN   \n",
       "14  0.058001  0.103595  0.936317       NaN  0.048667  ...              NaN   \n",
       "15  0.053827  0.114828  0.898415       NaN  0.020825  ...              NaN   \n",
       "16       NaN       NaN       NaN       NaN  0.009743  ...              NaN   \n",
       "17       NaN       NaN       NaN       NaN  0.013676  ...              NaN   \n",
       "18       NaN -0.011041       NaN       NaN  0.006220  ...              NaN   \n",
       "19       NaN -0.032730  1.468992       NaN  0.022184  ...              NaN   \n",
       "\n",
       "    EBITDAR_returns  REV_TOT_returns  EPSRD_returns  payout_ratio  \\\n",
       "0               NaN              NaN            NaN      0.263415   \n",
       "1               NaN              NaN            NaN      0.104779   \n",
       "2               NaN              NaN            NaN      0.094946   \n",
       "3               NaN              NaN            NaN           NaN   \n",
       "4               NaN              NaN            NaN           NaN   \n",
       "5               NaN              NaN            NaN           NaN   \n",
       "6               NaN              NaN            NaN           NaN   \n",
       "7               NaN              NaN            NaN      0.723684   \n",
       "8               NaN              NaN            NaN      0.922852   \n",
       "9               NaN              NaN            NaN      0.839228   \n",
       "10              NaN              NaN            NaN      0.446187   \n",
       "11              NaN              NaN            NaN      0.680147   \n",
       "12              NaN              NaN            NaN      0.628788   \n",
       "13              NaN              NaN            NaN      0.518344   \n",
       "14              NaN              NaN            NaN      1.261848   \n",
       "15              NaN              NaN            NaN      0.586283   \n",
       "16              NaN              NaN            NaN     -0.420060   \n",
       "17              NaN              NaN            NaN     -2.471429   \n",
       "18              NaN              NaN            NaN     -0.280555   \n",
       "19              NaN              NaN            NaN     -1.662784   \n",
       "\n",
       "    earnings_cover  cashflow_cover  debt_factor  profitability  \\\n",
       "0         3.796296             NaN          NaN       0.003902   \n",
       "1         9.543860             NaN          NaN       0.007134   \n",
       "2        10.532258             NaN          NaN       0.002238   \n",
       "3              NaN             NaN          NaN            NaN   \n",
       "4              NaN             NaN          NaN            NaN   \n",
       "5              NaN             NaN          NaN            NaN   \n",
       "6              NaN             NaN          NaN            NaN   \n",
       "7         1.381818        2.149818          NaN       0.123614   \n",
       "8         1.083597        1.985421          NaN       0.092953   \n",
       "9         1.191571             NaN          NaN       0.096288   \n",
       "10        2.241213        3.139904     0.760288       0.164411   \n",
       "11        1.470270        1.956757          NaN       0.164956   \n",
       "12        1.590361        2.324206     1.155844       0.178408   \n",
       "13        1.929221        2.988878          NaN       0.216119   \n",
       "14        0.792488        2.073239     1.051846       0.168777   \n",
       "15        1.705660             NaN     0.735535       0.175722   \n",
       "16       -2.380613        1.973628     3.102335      -0.047797   \n",
       "17       -0.404624        0.828960          NaN      -0.030904   \n",
       "18       -3.564362        0.785311          NaN      -0.111511   \n",
       "19       -0.601401        0.866310    10.610613      -0.313687   \n",
       "\n",
       "    financial_health_score  \n",
       "0                      1.0  \n",
       "1                      1.0  \n",
       "2                      1.0  \n",
       "3                      0.0  \n",
       "4                      0.0  \n",
       "5                      0.0  \n",
       "6                      0.0  \n",
       "7                      2.0  \n",
       "8                      2.0  \n",
       "9                      1.0  \n",
       "10                     3.0  \n",
       "11                     2.0  \n",
       "12                     3.0  \n",
       "13                     2.0  \n",
       "14                     2.0  \n",
       "15                     2.0  \n",
       "16                     1.0  \n",
       "17                     0.0  \n",
       "18                     0.0  \n",
       "19                     0.0  \n",
       "\n",
       "[20 rows x 107 columns]"
      ]
     },
     "execution_count": 340,
     "metadata": {},
     "output_type": "execute_result"
    }
   ],
   "source": [
    "df[:20]"
   ]
  },
  {
   "cell_type": "code",
   "execution_count": 341,
   "metadata": {
    "collapsed": true
   },
   "outputs": [],
   "source": [
    "data = df.copy()"
   ]
  },
  {
   "cell_type": "code",
   "execution_count": 342,
   "metadata": {},
   "outputs": [
    {
     "data": {
      "text/plain": [
       "Index(['id', 'calendar_end', 'fiscal_year_end_year', 'Dividend',\n",
       "       'Dividend_returns', 'ASSETS', 'BFNG', 'BPS', 'BPS_TANG', 'CAPEX',\n",
       "       ...\n",
       "       'S_M_EXP_returns', 'EBITDAR_returns', 'REV_TOT_returns',\n",
       "       'EPSRD_returns', 'payout_ratio', 'earnings_cover', 'cashflow_cover',\n",
       "       'debt_factor', 'profitability', 'financial_health_score'],\n",
       "      dtype='object', length=107)"
      ]
     },
     "execution_count": 342,
     "metadata": {},
     "output_type": "execute_result"
    }
   ],
   "source": [
    "data.columns"
   ]
  },
  {
   "cell_type": "markdown",
   "metadata": {},
   "source": [
    "We have 107 given features. I selected 11 columns to get started."
   ]
  },
  {
   "cell_type": "code",
   "execution_count": 343,
   "metadata": {
    "collapsed": true
   },
   "outputs": [],
   "source": [
    "t_col = ['id','calendar_end','fiscal_year_end_year','Dividend','Dividend_returns','SALES','EPS','payout_ratio','debt_factor','profitability','financial_health_score']"
   ]
  },
  {
   "cell_type": "code",
   "execution_count": 344,
   "metadata": {
    "collapsed": true
   },
   "outputs": [],
   "source": [
    "c_data = data[t_col]"
   ]
  },
  {
   "cell_type": "code",
   "execution_count": 345,
   "metadata": {},
   "outputs": [
    {
     "data": {
      "text/plain": [
       "(856, 11)"
      ]
     },
     "execution_count": 345,
     "metadata": {},
     "output_type": "execute_result"
    }
   ],
   "source": [
    "c_data.shape"
   ]
  },
  {
   "cell_type": "markdown",
   "metadata": {},
   "source": [
    "Get stats of the chosen features"
   ]
  },
  {
   "cell_type": "code",
   "execution_count": 346,
   "metadata": {},
   "outputs": [
    {
     "data": {
      "text/html": [
       "<div>\n",
       "<style scoped>\n",
       "    .dataframe tbody tr th:only-of-type {\n",
       "        vertical-align: middle;\n",
       "    }\n",
       "\n",
       "    .dataframe tbody tr th {\n",
       "        vertical-align: top;\n",
       "    }\n",
       "\n",
       "    .dataframe thead th {\n",
       "        text-align: right;\n",
       "    }\n",
       "</style>\n",
       "<table border=\"1\" class=\"dataframe\">\n",
       "  <thead>\n",
       "    <tr style=\"text-align: right;\">\n",
       "      <th></th>\n",
       "      <th>fiscal_year_end_year</th>\n",
       "      <th>Dividend</th>\n",
       "      <th>Dividend_returns</th>\n",
       "      <th>SALES</th>\n",
       "      <th>EPS</th>\n",
       "      <th>payout_ratio</th>\n",
       "      <th>debt_factor</th>\n",
       "      <th>profitability</th>\n",
       "      <th>financial_health_score</th>\n",
       "    </tr>\n",
       "  </thead>\n",
       "  <tbody>\n",
       "    <tr>\n",
       "      <th>count</th>\n",
       "      <td>856.000000</td>\n",
       "      <td>856.000000</td>\n",
       "      <td>740.000000</td>\n",
       "      <td>796.000000</td>\n",
       "      <td>786.000000</td>\n",
       "      <td>786.000000</td>\n",
       "      <td>671.000000</td>\n",
       "      <td>792.000000</td>\n",
       "      <td>856.000000</td>\n",
       "    </tr>\n",
       "    <tr>\n",
       "      <th>mean</th>\n",
       "      <td>2012.697430</td>\n",
       "      <td>29.527885</td>\n",
       "      <td>inf</td>\n",
       "      <td>0.327609</td>\n",
       "      <td>0.660472</td>\n",
       "      <td>inf</td>\n",
       "      <td>3.280656</td>\n",
       "      <td>0.108912</td>\n",
       "      <td>1.670561</td>\n",
       "    </tr>\n",
       "    <tr>\n",
       "      <th>std</th>\n",
       "      <td>2.464872</td>\n",
       "      <td>43.553085</td>\n",
       "      <td>NaN</td>\n",
       "      <td>1.037656</td>\n",
       "      <td>1.044244</td>\n",
       "      <td>NaN</td>\n",
       "      <td>11.489780</td>\n",
       "      <td>0.393163</td>\n",
       "      <td>1.090683</td>\n",
       "    </tr>\n",
       "    <tr>\n",
       "      <th>min</th>\n",
       "      <td>2008.000000</td>\n",
       "      <td>0.000000</td>\n",
       "      <td>-1.000000</td>\n",
       "      <td>-0.000134</td>\n",
       "      <td>-10.368494</td>\n",
       "      <td>-68.444444</td>\n",
       "      <td>-18.243999</td>\n",
       "      <td>-5.118467</td>\n",
       "      <td>0.000000</td>\n",
       "    </tr>\n",
       "    <tr>\n",
       "      <th>25%</th>\n",
       "      <td>2011.000000</td>\n",
       "      <td>7.200000</td>\n",
       "      <td>0.000000</td>\n",
       "      <td>0.007815</td>\n",
       "      <td>0.171747</td>\n",
       "      <td>0.067002</td>\n",
       "      <td>0.651154</td>\n",
       "      <td>0.005938</td>\n",
       "      <td>1.000000</td>\n",
       "    </tr>\n",
       "    <tr>\n",
       "      <th>50%</th>\n",
       "      <td>2013.000000</td>\n",
       "      <td>20.000000</td>\n",
       "      <td>0.053841</td>\n",
       "      <td>0.041257</td>\n",
       "      <td>0.482567</td>\n",
       "      <td>0.387056</td>\n",
       "      <td>2.254599</td>\n",
       "      <td>0.065252</td>\n",
       "      <td>2.000000</td>\n",
       "    </tr>\n",
       "    <tr>\n",
       "      <th>75%</th>\n",
       "      <td>2015.000000</td>\n",
       "      <td>40.641355</td>\n",
       "      <td>0.195554</td>\n",
       "      <td>0.179086</td>\n",
       "      <td>0.966810</td>\n",
       "      <td>1.143487</td>\n",
       "      <td>4.123907</td>\n",
       "      <td>0.190305</td>\n",
       "      <td>3.000000</td>\n",
       "    </tr>\n",
       "    <tr>\n",
       "      <th>max</th>\n",
       "      <td>2016.000000</td>\n",
       "      <td>440.000000</td>\n",
       "      <td>inf</td>\n",
       "      <td>9.674043</td>\n",
       "      <td>6.702323</td>\n",
       "      <td>inf</td>\n",
       "      <td>192.763354</td>\n",
       "      <td>1.636849</td>\n",
       "      <td>3.000000</td>\n",
       "    </tr>\n",
       "  </tbody>\n",
       "</table>\n",
       "</div>"
      ],
      "text/plain": [
       "       fiscal_year_end_year    Dividend  Dividend_returns       SALES  \\\n",
       "count            856.000000  856.000000        740.000000  796.000000   \n",
       "mean            2012.697430   29.527885               inf    0.327609   \n",
       "std                2.464872   43.553085               NaN    1.037656   \n",
       "min             2008.000000    0.000000         -1.000000   -0.000134   \n",
       "25%             2011.000000    7.200000          0.000000    0.007815   \n",
       "50%             2013.000000   20.000000          0.053841    0.041257   \n",
       "75%             2015.000000   40.641355          0.195554    0.179086   \n",
       "max             2016.000000  440.000000               inf    9.674043   \n",
       "\n",
       "              EPS  payout_ratio  debt_factor  profitability  \\\n",
       "count  786.000000    786.000000   671.000000     792.000000   \n",
       "mean     0.660472           inf     3.280656       0.108912   \n",
       "std      1.044244           NaN    11.489780       0.393163   \n",
       "min    -10.368494    -68.444444   -18.243999      -5.118467   \n",
       "25%      0.171747      0.067002     0.651154       0.005938   \n",
       "50%      0.482567      0.387056     2.254599       0.065252   \n",
       "75%      0.966810      1.143487     4.123907       0.190305   \n",
       "max      6.702323           inf   192.763354       1.636849   \n",
       "\n",
       "       financial_health_score  \n",
       "count              856.000000  \n",
       "mean                 1.670561  \n",
       "std                  1.090683  \n",
       "min                  0.000000  \n",
       "25%                  1.000000  \n",
       "50%                  2.000000  \n",
       "75%                  3.000000  \n",
       "max                  3.000000  "
      ]
     },
     "execution_count": 346,
     "metadata": {},
     "output_type": "execute_result"
    }
   ],
   "source": [
    "c_data.describe()"
   ]
  },
  {
   "cell_type": "markdown",
   "metadata": {},
   "source": [
    "We should device interpolate NaNs and inf. What I produce hereby is result of many interpolation. I am just putting some of the EDA work which I think gets close to actual data."
   ]
  },
  {
   "cell_type": "code",
   "execution_count": 347,
   "metadata": {
    "collapsed": true
   },
   "outputs": [],
   "source": [
    "t_data = c_data.groupby('id').filter(lambda x: x.shape[0] >2)"
   ]
  },
  {
   "cell_type": "code",
   "execution_count": 348,
   "metadata": {
    "collapsed": true
   },
   "outputs": [],
   "source": [
    "#t_data=c_data.copy()"
   ]
  },
  {
   "cell_type": "code",
   "execution_count": 349,
   "metadata": {},
   "outputs": [
    {
     "data": {
      "text/plain": [
       "(844, 11)"
      ]
     },
     "execution_count": 349,
     "metadata": {},
     "output_type": "execute_result"
    }
   ],
   "source": [
    "t_data.shape"
   ]
  },
  {
   "cell_type": "markdown",
   "metadata": {},
   "source": [
    " I now create a label for prediction \"div_cut\". It has 1 and 0 values. 0 means no cut and 1 means there is chances for cut. I have chosen the current value of dividend_return 0.095 for predicting cut in future. I have tried some other numbers as well. What I am putting here is pieces of strategy to I believed getting close to descent prediction"
   ]
  },
  {
   "cell_type": "code",
   "execution_count": 350,
   "metadata": {},
   "outputs": [
    {
     "name": "stderr",
     "output_type": "stream",
     "text": [
      "C:\\anaconda3\\lib\\site-packages\\ipykernel_launcher.py:1: SettingWithCopyWarning: \n",
      "A value is trying to be set on a copy of a slice from a DataFrame.\n",
      "Try using .loc[row_indexer,col_indexer] = value instead\n",
      "\n",
      "See the caveats in the documentation: http://pandas.pydata.org/pandas-docs/stable/indexing.html#indexing-view-versus-copy\n",
      "  \"\"\"Entry point for launching an IPython kernel.\n"
     ]
    }
   ],
   "source": [
    "t_data['div_cut']=0"
   ]
  },
  {
   "cell_type": "code",
   "execution_count": 351,
   "metadata": {},
   "outputs": [
    {
     "name": "stderr",
     "output_type": "stream",
     "text": [
      "C:\\anaconda3\\lib\\site-packages\\ipykernel_launcher.py:1: SettingWithCopyWarning: \n",
      "A value is trying to be set on a copy of a slice from a DataFrame.\n",
      "Try using .loc[row_indexer,col_indexer] = value instead\n",
      "\n",
      "See the caveats in the documentation: http://pandas.pydata.org/pandas-docs/stable/indexing.html#indexing-view-versus-copy\n",
      "  \"\"\"Entry point for launching an IPython kernel.\n"
     ]
    }
   ],
   "source": [
    "t_data['Dividend_returns'] = t_data['Dividend_returns'].fillna(0)"
   ]
  },
  {
   "cell_type": "code",
   "execution_count": 352,
   "metadata": {},
   "outputs": [
    {
     "name": "stderr",
     "output_type": "stream",
     "text": [
      "C:\\anaconda3\\lib\\site-packages\\ipykernel_launcher.py:1: SettingWithCopyWarning: \n",
      "A value is trying to be set on a copy of a slice from a DataFrame.\n",
      "Try using .loc[row_indexer,col_indexer] = value instead\n",
      "\n",
      "See the caveats in the documentation: http://pandas.pydata.org/pandas-docs/stable/indexing.html#indexing-view-versus-copy\n",
      "  \"\"\"Entry point for launching an IPython kernel.\n"
     ]
    }
   ],
   "source": [
    "t_data['div_cut'] = t_data['Dividend_returns'].apply(lambda x: 0 if x>=0.095 else 1)"
   ]
  },
  {
   "cell_type": "code",
   "execution_count": 353,
   "metadata": {
    "collapsed": true
   },
   "outputs": [],
   "source": [
    "#data = t_data.loc[:,['fiscal_year_end_year','SALES','EPS','payout_ratio','debt_factor','profitability','financial_health_score','div_cut']]"
   ]
  },
  {
   "cell_type": "code",
   "execution_count": 354,
   "metadata": {},
   "outputs": [
    {
     "data": {
      "text/plain": [
       "id                          0\n",
       "calendar_end                0\n",
       "fiscal_year_end_year        0\n",
       "Dividend                    0\n",
       "Dividend_returns            0\n",
       "SALES                      60\n",
       "EPS                        70\n",
       "payout_ratio               70\n",
       "debt_factor               182\n",
       "profitability              64\n",
       "financial_health_score      0\n",
       "div_cut                     0\n",
       "dtype: int64"
      ]
     },
     "execution_count": 354,
     "metadata": {},
     "output_type": "execute_result"
    }
   ],
   "source": [
    "t_data.isnull().sum()"
   ]
  },
  {
   "cell_type": "code",
   "execution_count": 355,
   "metadata": {},
   "outputs": [
    {
     "name": "stderr",
     "output_type": "stream",
     "text": [
      "C:\\anaconda3\\lib\\site-packages\\ipykernel_launcher.py:1: SettingWithCopyWarning: \n",
      "A value is trying to be set on a copy of a slice from a DataFrame.\n",
      "Try using .loc[row_indexer,col_indexer] = value instead\n",
      "\n",
      "See the caveats in the documentation: http://pandas.pydata.org/pandas-docs/stable/indexing.html#indexing-view-versus-copy\n",
      "  \"\"\"Entry point for launching an IPython kernel.\n"
     ]
    }
   ],
   "source": [
    "t_data['debt_factor'] = t_data.groupby('id')['debt_factor'].apply(lambda x:x.interpolate(method='linear', limit_direction ='both'))"
   ]
  },
  {
   "cell_type": "code",
   "execution_count": 356,
   "metadata": {},
   "outputs": [
    {
     "data": {
      "text/html": [
       "<div>\n",
       "<style scoped>\n",
       "    .dataframe tbody tr th:only-of-type {\n",
       "        vertical-align: middle;\n",
       "    }\n",
       "\n",
       "    .dataframe tbody tr th {\n",
       "        vertical-align: top;\n",
       "    }\n",
       "\n",
       "    .dataframe thead th {\n",
       "        text-align: right;\n",
       "    }\n",
       "</style>\n",
       "<table border=\"1\" class=\"dataframe\">\n",
       "  <thead>\n",
       "    <tr style=\"text-align: right;\">\n",
       "      <th></th>\n",
       "      <th>id</th>\n",
       "      <th>calendar_end</th>\n",
       "      <th>fiscal_year_end_year</th>\n",
       "      <th>Dividend</th>\n",
       "      <th>Dividend_returns</th>\n",
       "      <th>SALES</th>\n",
       "      <th>EPS</th>\n",
       "      <th>payout_ratio</th>\n",
       "      <th>debt_factor</th>\n",
       "      <th>profitability</th>\n",
       "      <th>financial_health_score</th>\n",
       "      <th>div_cut</th>\n",
       "    </tr>\n",
       "  </thead>\n",
       "  <tbody>\n",
       "    <tr>\n",
       "      <th>0</th>\n",
       "      <td>c141</td>\n",
       "      <td>2010-12-31</td>\n",
       "      <td>2010</td>\n",
       "      <td>10.8</td>\n",
       "      <td>0.000000</td>\n",
       "      <td>0.043991</td>\n",
       "      <td>0.686988</td>\n",
       "      <td>0.263415</td>\n",
       "      <td>NaN</td>\n",
       "      <td>0.003902</td>\n",
       "      <td>1.0</td>\n",
       "      <td>1</td>\n",
       "    </tr>\n",
       "    <tr>\n",
       "      <th>1</th>\n",
       "      <td>c141</td>\n",
       "      <td>2011-12-31</td>\n",
       "      <td>2011</td>\n",
       "      <td>11.4</td>\n",
       "      <td>0.055556</td>\n",
       "      <td>0.063927</td>\n",
       "      <td>1.823032</td>\n",
       "      <td>0.104779</td>\n",
       "      <td>NaN</td>\n",
       "      <td>0.007134</td>\n",
       "      <td>1.0</td>\n",
       "      <td>1</td>\n",
       "    </tr>\n",
       "    <tr>\n",
       "      <th>2</th>\n",
       "      <td>c141</td>\n",
       "      <td>2012-12-31</td>\n",
       "      <td>2012</td>\n",
       "      <td>12.4</td>\n",
       "      <td>0.087719</td>\n",
       "      <td>0.067240</td>\n",
       "      <td>2.188308</td>\n",
       "      <td>0.094946</td>\n",
       "      <td>NaN</td>\n",
       "      <td>0.002238</td>\n",
       "      <td>1.0</td>\n",
       "      <td>1</td>\n",
       "    </tr>\n",
       "    <tr>\n",
       "      <th>3</th>\n",
       "      <td>c141</td>\n",
       "      <td>2013-12-31</td>\n",
       "      <td>2013</td>\n",
       "      <td>13.2</td>\n",
       "      <td>0.064516</td>\n",
       "      <td>NaN</td>\n",
       "      <td>NaN</td>\n",
       "      <td>NaN</td>\n",
       "      <td>NaN</td>\n",
       "      <td>NaN</td>\n",
       "      <td>0.0</td>\n",
       "      <td>1</td>\n",
       "    </tr>\n",
       "    <tr>\n",
       "      <th>4</th>\n",
       "      <td>c141</td>\n",
       "      <td>2014-12-31</td>\n",
       "      <td>2014</td>\n",
       "      <td>17.6</td>\n",
       "      <td>0.333333</td>\n",
       "      <td>NaN</td>\n",
       "      <td>NaN</td>\n",
       "      <td>NaN</td>\n",
       "      <td>NaN</td>\n",
       "      <td>NaN</td>\n",
       "      <td>0.0</td>\n",
       "      <td>0</td>\n",
       "    </tr>\n",
       "  </tbody>\n",
       "</table>\n",
       "</div>"
      ],
      "text/plain": [
       "     id calendar_end  fiscal_year_end_year  Dividend  Dividend_returns  \\\n",
       "0  c141   2010-12-31                  2010      10.8          0.000000   \n",
       "1  c141   2011-12-31                  2011      11.4          0.055556   \n",
       "2  c141   2012-12-31                  2012      12.4          0.087719   \n",
       "3  c141   2013-12-31                  2013      13.2          0.064516   \n",
       "4  c141   2014-12-31                  2014      17.6          0.333333   \n",
       "\n",
       "      SALES       EPS  payout_ratio  debt_factor  profitability  \\\n",
       "0  0.043991  0.686988      0.263415          NaN       0.003902   \n",
       "1  0.063927  1.823032      0.104779          NaN       0.007134   \n",
       "2  0.067240  2.188308      0.094946          NaN       0.002238   \n",
       "3       NaN       NaN           NaN          NaN            NaN   \n",
       "4       NaN       NaN           NaN          NaN            NaN   \n",
       "\n",
       "   financial_health_score  div_cut  \n",
       "0                     1.0        1  \n",
       "1                     1.0        1  \n",
       "2                     1.0        1  \n",
       "3                     0.0        1  \n",
       "4                     0.0        0  "
      ]
     },
     "execution_count": 356,
     "metadata": {},
     "output_type": "execute_result"
    }
   ],
   "source": [
    "t_data.head()"
   ]
  },
  {
   "cell_type": "code",
   "execution_count": 357,
   "metadata": {
    "collapsed": true
   },
   "outputs": [],
   "source": [
    "data = t_data.dropna()"
   ]
  },
  {
   "cell_type": "markdown",
   "metadata": {},
   "source": [
    "### Dropping all the NANs and inf without interpolation since we wont miss much data"
   ]
  },
  {
   "cell_type": "code",
   "execution_count": 358,
   "metadata": {},
   "outputs": [
    {
     "data": {
      "text/plain": [
       "(748, 12)"
      ]
     },
     "execution_count": 358,
     "metadata": {},
     "output_type": "execute_result"
    }
   ],
   "source": [
    "data.shape"
   ]
  },
  {
   "cell_type": "code",
   "execution_count": 359,
   "metadata": {
    "collapsed": true
   },
   "outputs": [],
   "source": [
    "data = data.replace([np.inf, -np.inf], np.nan)\n",
    "data = data.dropna()"
   ]
  },
  {
   "cell_type": "code",
   "execution_count": 360,
   "metadata": {},
   "outputs": [
    {
     "data": {
      "text/plain": [
       "<seaborn.axisgrid.PairGrid at 0x295b0d795c0>"
      ]
     },
     "execution_count": 360,
     "metadata": {},
     "output_type": "execute_result"
    },
    {
     "data": {
      "image/png": "[encoded data removed]",
      "text/plain": [
       "<Figure size 1800x1800 with 110 Axes>"
      ]
     },
     "metadata": {},
     "output_type": "display_data"
    }
   ],
   "source": [
    "sns.pairplot(data)"
   ]
  },
  {
   "cell_type": "markdown",
   "metadata": {},
   "source": [
    "As we can see there are many outliears in the data which may try to overfit the model. For the same of simplicity I am ignoring the outliears. I will take care of these in next updated version"
   ]
  },
  {
   "cell_type": "code",
   "execution_count": 361,
   "metadata": {},
   "outputs": [
    {
     "data": {
      "text/html": [
       "<div>\n",
       "<style scoped>\n",
       "    .dataframe tbody tr th:only-of-type {\n",
       "        vertical-align: middle;\n",
       "    }\n",
       "\n",
       "    .dataframe tbody tr th {\n",
       "        vertical-align: top;\n",
       "    }\n",
       "\n",
       "    .dataframe thead th {\n",
       "        text-align: right;\n",
       "    }\n",
       "</style>\n",
       "<table border=\"1\" class=\"dataframe\">\n",
       "  <thead>\n",
       "    <tr style=\"text-align: right;\">\n",
       "      <th></th>\n",
       "      <th>fiscal_year_end_year</th>\n",
       "      <th>Dividend</th>\n",
       "      <th>Dividend_returns</th>\n",
       "      <th>SALES</th>\n",
       "      <th>EPS</th>\n",
       "      <th>payout_ratio</th>\n",
       "      <th>debt_factor</th>\n",
       "      <th>profitability</th>\n",
       "      <th>financial_health_score</th>\n",
       "      <th>div_cut</th>\n",
       "    </tr>\n",
       "  </thead>\n",
       "  <tbody>\n",
       "    <tr>\n",
       "      <th>count</th>\n",
       "      <td>735.000000</td>\n",
       "      <td>735.000000</td>\n",
       "      <td>735.000000</td>\n",
       "      <td>735.000000</td>\n",
       "      <td>735.000000</td>\n",
       "      <td>735.000000</td>\n",
       "      <td>735.000000</td>\n",
       "      <td>735.000000</td>\n",
       "      <td>735.000000</td>\n",
       "      <td>735.000000</td>\n",
       "    </tr>\n",
       "    <tr>\n",
       "      <th>mean</th>\n",
       "      <td>2012.632653</td>\n",
       "      <td>29.284901</td>\n",
       "      <td>0.319982</td>\n",
       "      <td>0.352257</td>\n",
       "      <td>0.654042</td>\n",
       "      <td>1.407150</td>\n",
       "      <td>4.213405</td>\n",
       "      <td>0.098310</td>\n",
       "      <td>1.836735</td>\n",
       "      <td>0.653061</td>\n",
       "    </tr>\n",
       "    <tr>\n",
       "      <th>std</th>\n",
       "      <td>2.477368</td>\n",
       "      <td>43.318492</td>\n",
       "      <td>2.064958</td>\n",
       "      <td>1.075911</td>\n",
       "      <td>1.050916</td>\n",
       "      <td>25.818882</td>\n",
       "      <td>17.780848</td>\n",
       "      <td>0.392190</td>\n",
       "      <td>1.016491</td>\n",
       "      <td>0.476320</td>\n",
       "    </tr>\n",
       "    <tr>\n",
       "      <th>min</th>\n",
       "      <td>2008.000000</td>\n",
       "      <td>0.000000</td>\n",
       "      <td>-1.000000</td>\n",
       "      <td>-0.000134</td>\n",
       "      <td>-10.368494</td>\n",
       "      <td>-68.444444</td>\n",
       "      <td>-18.243999</td>\n",
       "      <td>-5.118467</td>\n",
       "      <td>0.000000</td>\n",
       "      <td>0.000000</td>\n",
       "    </tr>\n",
       "    <tr>\n",
       "      <th>25%</th>\n",
       "      <td>2011.000000</td>\n",
       "      <td>7.546000</td>\n",
       "      <td>0.000000</td>\n",
       "      <td>0.011017</td>\n",
       "      <td>0.174260</td>\n",
       "      <td>0.064988</td>\n",
       "      <td>0.576051</td>\n",
       "      <td>0.005646</td>\n",
       "      <td>1.000000</td>\n",
       "      <td>0.000000</td>\n",
       "    </tr>\n",
       "    <tr>\n",
       "      <th>50%</th>\n",
       "      <td>2013.000000</td>\n",
       "      <td>20.750000</td>\n",
       "      <td>0.038270</td>\n",
       "      <td>0.045816</td>\n",
       "      <td>0.485918</td>\n",
       "      <td>0.382166</td>\n",
       "      <td>2.165334</td>\n",
       "      <td>0.061077</td>\n",
       "      <td>2.000000</td>\n",
       "      <td>1.000000</td>\n",
       "    </tr>\n",
       "    <tr>\n",
       "      <th>75%</th>\n",
       "      <td>2015.000000</td>\n",
       "      <td>41.550000</td>\n",
       "      <td>0.161382</td>\n",
       "      <td>0.200569</td>\n",
       "      <td>0.954905</td>\n",
       "      <td>1.169360</td>\n",
       "      <td>4.181650</td>\n",
       "      <td>0.180966</td>\n",
       "      <td>3.000000</td>\n",
       "      <td>1.000000</td>\n",
       "    </tr>\n",
       "    <tr>\n",
       "      <th>max</th>\n",
       "      <td>2016.000000</td>\n",
       "      <td>440.000000</td>\n",
       "      <td>36.647059</td>\n",
       "      <td>9.674043</td>\n",
       "      <td>6.702323</td>\n",
       "      <td>686.042582</td>\n",
       "      <td>192.763354</td>\n",
       "      <td>1.636849</td>\n",
       "      <td>3.000000</td>\n",
       "      <td>1.000000</td>\n",
       "    </tr>\n",
       "  </tbody>\n",
       "</table>\n",
       "</div>"
      ],
      "text/plain": [
       "       fiscal_year_end_year    Dividend  Dividend_returns       SALES  \\\n",
       "count            735.000000  735.000000        735.000000  735.000000   \n",
       "mean            2012.632653   29.284901          0.319982    0.352257   \n",
       "std                2.477368   43.318492          2.064958    1.075911   \n",
       "min             2008.000000    0.000000         -1.000000   -0.000134   \n",
       "25%             2011.000000    7.546000          0.000000    0.011017   \n",
       "50%             2013.000000   20.750000          0.038270    0.045816   \n",
       "75%             2015.000000   41.550000          0.161382    0.200569   \n",
       "max             2016.000000  440.000000         36.647059    9.674043   \n",
       "\n",
       "              EPS  payout_ratio  debt_factor  profitability  \\\n",
       "count  735.000000    735.000000   735.000000     735.000000   \n",
       "mean     0.654042      1.407150     4.213405       0.098310   \n",
       "std      1.050916     25.818882    17.780848       0.392190   \n",
       "min    -10.368494    -68.444444   -18.243999      -5.118467   \n",
       "25%      0.174260      0.064988     0.576051       0.005646   \n",
       "50%      0.485918      0.382166     2.165334       0.061077   \n",
       "75%      0.954905      1.169360     4.181650       0.180966   \n",
       "max      6.702323    686.042582   192.763354       1.636849   \n",
       "\n",
       "       financial_health_score     div_cut  \n",
       "count              735.000000  735.000000  \n",
       "mean                 1.836735    0.653061  \n",
       "std                  1.016491    0.476320  \n",
       "min                  0.000000    0.000000  \n",
       "25%                  1.000000    0.000000  \n",
       "50%                  2.000000    1.000000  \n",
       "75%                  3.000000    1.000000  \n",
       "max                  3.000000    1.000000  "
      ]
     },
     "execution_count": 361,
     "metadata": {},
     "output_type": "execute_result"
    }
   ],
   "source": [
    "data.describe()"
   ]
  },
  {
   "cell_type": "markdown",
   "metadata": {},
   "source": [
    "We need to rescale the data with a scaler. I am using RobustScaler since it’s more suitable for when there are outliers in the data."
   ]
  },
  {
   "cell_type": "code",
   "execution_count": 362,
   "metadata": {
    "collapsed": true
   },
   "outputs": [],
   "source": [
    "from sklearn import preprocessing\n",
    "scaler = preprocessing.RobustScaler()"
   ]
  },
  {
   "cell_type": "markdown",
   "metadata": {},
   "source": [
    "## Scale all the feature except financial_health_score to standardize"
   ]
  },
  {
   "cell_type": "code",
   "execution_count": 363,
   "metadata": {
    "collapsed": true
   },
   "outputs": [],
   "source": [
    "#scaler = StandardScaler()"
   ]
  },
  {
   "cell_type": "code",
   "execution_count": 364,
   "metadata": {
    "collapsed": true
   },
   "outputs": [],
   "source": [
    "data[['SALES','EPS','payout_ratio','debt_factor','profitability']]=scaler.fit_transform(data.loc[:,['SALES','EPS','payout_ratio','debt_factor','profitability']])"
   ]
  },
  {
   "cell_type": "code",
   "execution_count": 365,
   "metadata": {},
   "outputs": [
    {
     "data": {
      "text/html": [
       "<div>\n",
       "<style scoped>\n",
       "    .dataframe tbody tr th:only-of-type {\n",
       "        vertical-align: middle;\n",
       "    }\n",
       "\n",
       "    .dataframe tbody tr th {\n",
       "        vertical-align: top;\n",
       "    }\n",
       "\n",
       "    .dataframe thead th {\n",
       "        text-align: right;\n",
       "    }\n",
       "</style>\n",
       "<table border=\"1\" class=\"dataframe\">\n",
       "  <thead>\n",
       "    <tr style=\"text-align: right;\">\n",
       "      <th></th>\n",
       "      <th>id</th>\n",
       "      <th>calendar_end</th>\n",
       "      <th>fiscal_year_end_year</th>\n",
       "      <th>Dividend</th>\n",
       "      <th>Dividend_returns</th>\n",
       "      <th>SALES</th>\n",
       "      <th>EPS</th>\n",
       "      <th>payout_ratio</th>\n",
       "      <th>debt_factor</th>\n",
       "      <th>profitability</th>\n",
       "      <th>financial_health_score</th>\n",
       "      <th>div_cut</th>\n",
       "    </tr>\n",
       "  </thead>\n",
       "  <tbody>\n",
       "    <tr>\n",
       "      <th>10</th>\n",
       "      <td>c143</td>\n",
       "      <td>2011-12-31</td>\n",
       "      <td>2011</td>\n",
       "      <td>36.275</td>\n",
       "      <td>0.000000</td>\n",
       "      <td>-0.048280</td>\n",
       "      <td>1.122571</td>\n",
       "      <td>0.057971</td>\n",
       "      <td>-0.389684</td>\n",
       "      <td>0.589404</td>\n",
       "      <td>3.0</td>\n",
       "      <td>1</td>\n",
       "    </tr>\n",
       "    <tr>\n",
       "      <th>11</th>\n",
       "      <td>c143</td>\n",
       "      <td>2012-12-31</td>\n",
       "      <td>2012</td>\n",
       "      <td>41.625</td>\n",
       "      <td>0.147484</td>\n",
       "      <td>-0.028268</td>\n",
       "      <td>0.691143</td>\n",
       "      <td>0.269820</td>\n",
       "      <td>-0.334831</td>\n",
       "      <td>0.592514</td>\n",
       "      <td>2.0</td>\n",
       "      <td>0</td>\n",
       "    </tr>\n",
       "    <tr>\n",
       "      <th>12</th>\n",
       "      <td>c143</td>\n",
       "      <td>2013-12-31</td>\n",
       "      <td>2013</td>\n",
       "      <td>45.650</td>\n",
       "      <td>0.096697</td>\n",
       "      <td>-0.010299</td>\n",
       "      <td>0.935833</td>\n",
       "      <td>0.223314</td>\n",
       "      <td>-0.279978</td>\n",
       "      <td>0.669241</td>\n",
       "      <td>3.0</td>\n",
       "      <td>0</td>\n",
       "    </tr>\n",
       "    <tr>\n",
       "      <th>13</th>\n",
       "      <td>c143</td>\n",
       "      <td>2014-12-31</td>\n",
       "      <td>2014</td>\n",
       "      <td>49.450</td>\n",
       "      <td>0.083242</td>\n",
       "      <td>-0.000315</td>\n",
       "      <td>1.425214</td>\n",
       "      <td>0.123308</td>\n",
       "      <td>-0.294400</td>\n",
       "      <td>0.884337</td>\n",
       "      <td>2.0</td>\n",
       "      <td>1</td>\n",
       "    </tr>\n",
       "    <tr>\n",
       "      <th>14</th>\n",
       "      <td>c143</td>\n",
       "      <td>2015-12-31</td>\n",
       "      <td>2015</td>\n",
       "      <td>53.250</td>\n",
       "      <td>0.076845</td>\n",
       "      <td>-0.003147</td>\n",
       "      <td>0.283326</td>\n",
       "      <td>0.796545</td>\n",
       "      <td>-0.308822</td>\n",
       "      <td>0.614305</td>\n",
       "      <td>2.0</td>\n",
       "      <td>1</td>\n",
       "    </tr>\n",
       "  </tbody>\n",
       "</table>\n",
       "</div>"
      ],
      "text/plain": [
       "      id calendar_end  fiscal_year_end_year  Dividend  Dividend_returns  \\\n",
       "10  c143   2011-12-31                  2011    36.275          0.000000   \n",
       "11  c143   2012-12-31                  2012    41.625          0.147484   \n",
       "12  c143   2013-12-31                  2013    45.650          0.096697   \n",
       "13  c143   2014-12-31                  2014    49.450          0.083242   \n",
       "14  c143   2015-12-31                  2015    53.250          0.076845   \n",
       "\n",
       "       SALES       EPS  payout_ratio  debt_factor  profitability  \\\n",
       "10 -0.048280  1.122571      0.057971    -0.389684       0.589404   \n",
       "11 -0.028268  0.691143      0.269820    -0.334831       0.592514   \n",
       "12 -0.010299  0.935833      0.223314    -0.279978       0.669241   \n",
       "13 -0.000315  1.425214      0.123308    -0.294400       0.884337   \n",
       "14 -0.003147  0.283326      0.796545    -0.308822       0.614305   \n",
       "\n",
       "    financial_health_score  div_cut  \n",
       "10                     3.0        1  \n",
       "11                     2.0        0  \n",
       "12                     3.0        0  \n",
       "13                     2.0        1  \n",
       "14                     2.0        1  "
      ]
     },
     "execution_count": 365,
     "metadata": {},
     "output_type": "execute_result"
    }
   ],
   "source": [
    "data.head()"
   ]
  },
  {
   "cell_type": "code",
   "execution_count": 366,
   "metadata": {
    "collapsed": true
   },
   "outputs": [],
   "source": [
    "#sns.pairplot(data)"
   ]
  },
  {
   "cell_type": "markdown",
   "metadata": {},
   "source": [
    "There are some outliers but we are ignoring them as of now. We are just trying to get a picture of how datset fares with model"
   ]
  },
  {
   "cell_type": "markdown",
   "metadata": {},
   "source": [
    "Keep all the data till 2015 as training and 2016 data to test"
   ]
  },
  {
   "cell_type": "code",
   "execution_count": 367,
   "metadata": {
    "collapsed": true
   },
   "outputs": [],
   "source": [
    "def  process_data(data):\n",
    "    test_data = data[data['fiscal_year_end_year']==2016]\n",
    "    train_data = data[data['fiscal_year_end_year']!=2016]\n",
    "    \n",
    "    train_data = train_data.drop('fiscal_year_end_year',axis=1)\n",
    "    test_data = test_data.drop('fiscal_year_end_year',axis=1)\n",
    "    \n",
    "    X_train = train_data.drop('div_cut',axis=1)\n",
    "    X_test = test_data.drop('div_cut',axis=1)\n",
    "    \n",
    "    y_train = train_data['div_cut']\n",
    "    y_test = test_data['div_cut']\n",
    "    \n",
    "    return X_train,y_train,X_test,y_test"
   ]
  },
  {
   "cell_type": "code",
   "execution_count": 368,
   "metadata": {
    "collapsed": true
   },
   "outputs": [],
   "source": [
    "#f_data = data[data['financial_health_score']==3.0]\n",
    "#X_train,y_train,X_test,y_test = process_data(f_data)"
   ]
  },
  {
   "cell_type": "markdown",
   "metadata": {},
   "source": [
    "Dropping off the features that are irrelevant or that may affect the result"
   ]
  },
  {
   "cell_type": "code",
   "execution_count": 369,
   "metadata": {
    "collapsed": true
   },
   "outputs": [],
   "source": [
    "data = data.drop(['id','calendar_end','Dividend','Dividend_returns'],axis=1)"
   ]
  },
  {
   "cell_type": "code",
   "execution_count": 370,
   "metadata": {
    "collapsed": true
   },
   "outputs": [],
   "source": [
    "X_train,y_train,X_test,y_test = process_data(data)"
   ]
  },
  {
   "cell_type": "code",
   "execution_count": 371,
   "metadata": {
    "collapsed": true
   },
   "outputs": [],
   "source": [
    "#X_test"
   ]
  },
  {
   "cell_type": "markdown",
   "metadata": {},
   "source": [
    "## Create an MLP using SKLearn for training and test. Using default parameters and three hidde layers"
   ]
  },
  {
   "cell_type": "code",
   "execution_count": 372,
   "metadata": {
    "collapsed": true
   },
   "outputs": [],
   "source": [
    "def neural_nets(X_train, X_test, y_train, y_test):\n",
    "    \n",
    "    clf = MLPClassifier(hidden_layer_sizes=(100, 100, 100,))\n",
    "\n",
    "    clf.fit(X_train, y_train)\n",
    "    print(\"Score: \", clf.score(X_test, y_test))\n",
    "    y_pred = clf.predict(X_test)\n",
    "    y_pred_proba = clf.predict_proba(X_test)[:, 1]\n",
    "    print(\"F1 score is: {}\".format(f1_score(y_test, y_pred)))\n",
    "    print(\"AUC Score is: {}\".format(roc_auc_score(y_test, y_pred_proba)))\n",
    "    \n",
    "    f1 = f1_score(y_test, y_pred)\n",
    "    auc = roc_auc_score(y_test, y_pred_proba)\n",
    "    acc = clf.score(X_test, y_test)\n",
    "    return f1,auc,acc\n"
   ]
  },
  {
   "cell_type": "markdown",
   "metadata": {},
   "source": [
    "## Create a Random-Forrest model"
   ]
  },
  {
   "cell_type": "code",
   "execution_count": 373,
   "metadata": {
    "collapsed": true
   },
   "outputs": [],
   "source": [
    "def randomForest(X_train, X_test, y_train, y_test):\n",
    "    \n",
    "    clf = RandomForestClassifier(max_depth=4, n_estimators=3)\n",
    "    # clf = GridSearchCV(alg, parameters, n_jobs=4)\n",
    "    clf.fit(X_train, y_train)\n",
    "    print(\"Score: \", clf.score(X_test, y_test))\n",
    "    y_pred = clf.predict(X_test)\n",
    "    y_pred_proba = clf.predict_proba(X_test)[:, 1]\n",
    "\n",
    "    print(\"F1 score is: {}\".format(f1_score(y_test, y_pred)))\n",
    "    print(\"AUC Score is: {}\".format(roc_auc_score(y_test, y_pred_proba)))\n",
    "    \n",
    "    f1 = f1_score(y_test, y_pred)\n",
    "    auc = roc_auc_score(y_test, y_pred_proba)\n",
    "    acc = clf.score(X_test, y_test)\n",
    "    return f1,auc,acc\n"
   ]
  },
  {
   "cell_type": "markdown",
   "metadata": {},
   "source": [
    "## Create a Logistic Regression classifier with default hyperparameters"
   ]
  },
  {
   "cell_type": "code",
   "execution_count": 374,
   "metadata": {
    "collapsed": true
   },
   "outputs": [],
   "source": [
    "def logistic_regression(X_train, X_test, y_train, y_test):\n",
    "    \n",
    "    clf = LogisticRegression(C=1e5)\n",
    "    clf.fit(X_train, y_train)\n",
    "\n",
    "    print(\"Score: \", clf.score(X_test, y_test))\n",
    "    y_pred = clf.predict(X_test)\n",
    "    y_pred_proba = clf.predict_proba(X_test)[:, 1]\n",
    "    print(\"F1 score is: {}\".format(f1_score(y_test, y_pred)))\n",
    "    print(\"AUC Score is: {}\".format(roc_auc_score(y_test, y_pred_proba)))\n",
    "    \n",
    "    f1 = f1_score(y_test, y_pred)\n",
    "    auc = roc_auc_score(y_test, y_pred_proba)\n",
    "    acc = clf.score(X_test, y_test)\n",
    "    return f1,auc,acc\n"
   ]
  },
  {
   "cell_type": "markdown",
   "metadata": {},
   "source": [
    "## Create a Logistic with smote classifier with default hyperparameters"
   ]
  },
  {
   "cell_type": "code",
   "execution_count": 375,
   "metadata": {
    "collapsed": true
   },
   "outputs": [],
   "source": [
    "def logistic_with_smote(X_train, X_test, y_train, y_test):\n",
    "    \n",
    "    clf = LogisticRegression(C=1e5)\n",
    "    clf.fit(X_train, y_train)\n",
    "    # build model with SMOTE imblearn\n",
    "    smote_pipeline = make_pipeline_imb(SMOTE(random_state=4), clf)\n",
    "\n",
    "    smote_model = smote_pipeline.fit(X_train, y_train)\n",
    "    smote_prediction = smote_model.predict(X_test)\n",
    "    smote_prediction_proba = smote_model.predict_proba(X_test)[:, 1]\n",
    "\n",
    "    print(classification_report_imbalanced(y_test, smote_prediction))\n",
    "    print('SMOTE Pipeline Score {}'.format(smote_pipeline.score(X_test, y_test)))\n",
    "    print(\"SMOTE AUC score: \", roc_auc_score(y_test, smote_prediction_proba))\n",
    "    print(\"SMOTE F1 Score: \", f1_score(y_test, smote_prediction))\n",
    "    \n",
    "    acc=smote_pipeline.score(X_test, y_test)\n",
    "    f1 = f1_score(y_test, smote_prediction)\n",
    "    auc = roc_auc_score(y_test, smote_prediction_proba)\n",
    "    \n",
    "    return f1,auc,acc\n"
   ]
  },
  {
   "cell_type": "markdown",
   "metadata": {},
   "source": [
    "## Create a xgb_classifier classifier with some specific hyperparameters"
   ]
  },
  {
   "cell_type": "code",
   "execution_count": 376,
   "metadata": {
    "collapsed": true
   },
   "outputs": [],
   "source": [
    "def xgb_classifier(X_train, X_test, y_train, y_test, useTrainCV=True, cv_folds=5, early_stopping_rounds=50):\n",
    "    alg = XGBClassifier(learning_rate=0.1, n_estimators=140, max_depth=5,\n",
    "                        min_child_weight=3, gamma=0.2, subsample=0.6, colsample_bytree=1.0,\n",
    "                        objective='binary:logistic', nthread=4, scale_pos_weight=1, seed=27)\n",
    "\n",
    "    if useTrainCV:\n",
    "        xgb_param = alg.get_xgb_params()\n",
    "        xgtrain = xgb.DMatrix(X_train.values, label=y_train.values)\n",
    "        cvresult = xgb.cv(xgb_param, xgtrain, num_boost_round=alg.get_params()['n_estimators'], nfold=cv_folds,\n",
    "                          early_stopping_rounds=early_stopping_rounds)\n",
    "        alg.set_params(n_estimators=cvresult.shape[0])\n",
    "\n",
    "    alg.fit(X_train, y_train, eval_metric='auc')\n",
    "\n",
    "    predictions = alg.predict(X_test)\n",
    "    pred_proba = alg.predict_proba(X_test)[:, 1]\n",
    "\n",
    "    print(\"Accuracy : %.4g\" % metrics.accuracy_score(y_test, predictions))\n",
    "    print(\"AUC: %f\" % metrics.roc_auc_score(y_test, pred_proba))\n",
    "    print(\"F1 Score: %f\" % metrics.f1_score(y_test, predictions))\n",
    "\n",
    "    acc=metrics.accuracy_score(y_test, predictions)\n",
    "    f1 = f1_score(y_test, predictions)\n",
    "    auc = roc_auc_score(y_test, pred_proba)\n",
    "    \n",
    "    return f1,auc,acc\n"
   ]
  },
  {
   "cell_type": "code",
   "execution_count": 377,
   "metadata": {},
   "outputs": [
    {
     "name": "stdout",
     "output_type": "stream",
     "text": [
      "Score:  0.780952380952381\n",
      "F1 score is: 0.8588957055214724\n",
      "AUC Score is: 0.721\n",
      "Score:  0.780952380952381\n",
      "F1 score is: 0.863905325443787\n",
      "AUC Score is: 0.7589999999999999\n",
      "Score:  0.7714285714285715\n",
      "F1 score is: 0.8695652173913044\n",
      "AUC Score is: 0.776\n",
      "                   pre       rec       spe        f1       geo       iba       sup\n",
      "\n",
      "          0       0.56      0.36      0.91      0.44      0.57      0.31        25\n",
      "          1       0.82      0.91      0.36      0.86      0.57      0.35        80\n",
      "\n",
      "avg / total       0.76      0.78      0.49      0.76      0.57      0.34       105\n",
      "\n",
      "SMOTE Pipeline Score 0.780952380952381\n",
      "SMOTE AUC score:  0.814\n",
      "SMOTE F1 Score:  0.863905325443787\n"
     ]
    },
    {
     "name": "stderr",
     "output_type": "stream",
     "text": [
      "C:\\anaconda3\\lib\\site-packages\\sklearn\\linear_model\\logistic.py:432: FutureWarning: Default solver will be changed to 'lbfgs' in 0.22. Specify a solver to silence this warning.\n",
      "  FutureWarning)\n",
      "C:\\anaconda3\\lib\\site-packages\\sklearn\\linear_model\\logistic.py:432: FutureWarning: Default solver will be changed to 'lbfgs' in 0.22. Specify a solver to silence this warning.\n",
      "  FutureWarning)\n",
      "C:\\anaconda3\\lib\\site-packages\\sklearn\\linear_model\\logistic.py:432: FutureWarning: Default solver will be changed to 'lbfgs' in 0.22. Specify a solver to silence this warning.\n",
      "  FutureWarning)\n"
     ]
    },
    {
     "name": "stdout",
     "output_type": "stream",
     "text": [
      "Accuracy : 0.7524\n",
      "AUC: 0.832000\n",
      "F1 Score: 0.837500\n"
     ]
    }
   ],
   "source": [
    "Algo, AUC, F1, Accuracy =[],[],[],[]\n",
    "\n",
    "Algo.append('Neural Nets')\n",
    "f,a,acc = neural_nets(X_train, X_test, y_train, y_test)\n",
    "AUC.append(a)\n",
    "F1.append(f)\n",
    "Accuracy.append(acc)\n",
    "\n",
    "\n",
    "Algo.append('Random Forrest')\n",
    "f,a,acc =randomForest(X_train, X_test, y_train, y_test)\n",
    "AUC.append(a)\n",
    "F1.append(f)\n",
    "Accuracy.append(acc)\n",
    "\n",
    "Algo.append('Logistic Regression')\n",
    "f,a,acc = logistic_regression(X_train, X_test, y_train, y_test)\n",
    "AUC.append(a)\n",
    "F1.append(f)\n",
    "Accuracy.append(acc)\n",
    "\n",
    "Algo.append('Logistic wih Smote')\n",
    "f,a,acc = logistic_with_smote(X_train, X_test, y_train, y_test)\n",
    "AUC.append(a)\n",
    "F1.append(f)\n",
    "Accuracy.append(acc)\n",
    "\n",
    "Algo.append('XGB')\n",
    "f,a,acc = xgb_classifier(X_train, X_test, y_train, y_test)\n",
    "AUC.append(a)\n",
    "F1.append(f)\n",
    "Accuracy.append(acc)\n",
    "\n",
    "Results = pd.DataFrame({'Algo':Algo,'Accuracy':Accuracy,'AUC':AUC,'F1 Score':F1})"
   ]
  },
  {
   "cell_type": "code",
   "execution_count": 378,
   "metadata": {},
   "outputs": [
    {
     "data": {
      "text/html": [
       "<div>\n",
       "<style scoped>\n",
       "    .dataframe tbody tr th:only-of-type {\n",
       "        vertical-align: middle;\n",
       "    }\n",
       "\n",
       "    .dataframe tbody tr th {\n",
       "        vertical-align: top;\n",
       "    }\n",
       "\n",
       "    .dataframe thead th {\n",
       "        text-align: right;\n",
       "    }\n",
       "</style>\n",
       "<table border=\"1\" class=\"dataframe\">\n",
       "  <thead>\n",
       "    <tr style=\"text-align: right;\">\n",
       "      <th></th>\n",
       "      <th>Algo</th>\n",
       "      <th>Accuracy</th>\n",
       "      <th>AUC</th>\n",
       "      <th>F1 Score</th>\n",
       "    </tr>\n",
       "  </thead>\n",
       "  <tbody>\n",
       "    <tr>\n",
       "      <th>0</th>\n",
       "      <td>Neural Nets</td>\n",
       "      <td>0.780952</td>\n",
       "      <td>0.721</td>\n",
       "      <td>0.858896</td>\n",
       "    </tr>\n",
       "    <tr>\n",
       "      <th>1</th>\n",
       "      <td>Random Forrest</td>\n",
       "      <td>0.780952</td>\n",
       "      <td>0.759</td>\n",
       "      <td>0.863905</td>\n",
       "    </tr>\n",
       "    <tr>\n",
       "      <th>2</th>\n",
       "      <td>Logistic Regression</td>\n",
       "      <td>0.771429</td>\n",
       "      <td>0.776</td>\n",
       "      <td>0.869565</td>\n",
       "    </tr>\n",
       "    <tr>\n",
       "      <th>3</th>\n",
       "      <td>Logistic wih Smote</td>\n",
       "      <td>0.780952</td>\n",
       "      <td>0.814</td>\n",
       "      <td>0.863905</td>\n",
       "    </tr>\n",
       "    <tr>\n",
       "      <th>4</th>\n",
       "      <td>XGB</td>\n",
       "      <td>0.752381</td>\n",
       "      <td>0.832</td>\n",
       "      <td>0.837500</td>\n",
       "    </tr>\n",
       "  </tbody>\n",
       "</table>\n",
       "</div>"
      ],
      "text/plain": [
       "                  Algo  Accuracy    AUC  F1 Score\n",
       "0          Neural Nets  0.780952  0.721  0.858896\n",
       "1       Random Forrest  0.780952  0.759  0.863905\n",
       "2  Logistic Regression  0.771429  0.776  0.869565\n",
       "3   Logistic wih Smote  0.780952  0.814  0.863905\n",
       "4                  XGB  0.752381  0.832  0.837500"
      ]
     },
     "execution_count": 378,
     "metadata": {},
     "output_type": "execute_result"
    }
   ],
   "source": [
    "Results"
   ]
  },
  {
   "cell_type": "markdown",
   "metadata": {},
   "source": [
    "In most of the model I have used only default hyperparameters which is fine as of now. As per the results Logistic with smote is giving food results. As per my observation the data was unbalanced to one side i.e we have more data of one type than other hence F1 score can provide a better picture since it take care of both precision as well as Recall. Also combining result with AUC gives us better idea."
   ]
  },
  {
   "cell_type": "markdown",
   "metadata": {},
   "source": [
    "Going further we will try to get rid of outliers and try to predict with more cleaner data. We will also try to tune hyperparameters to get better outcome from different models. We also have option to try with different models but because of time-constraint I will work with these model and try to get best of it."
   ]
  },
  {
   "cell_type": "code",
   "execution_count": null,
   "metadata": {
    "collapsed": true
   },
   "outputs": [],
   "source": []
  }
 ],
 "metadata": {
  "kernelspec": {
   "display_name": "Python 3",
   "language": "python",
   "name": "python3"
  },
  "language_info": {
   "codemirror_mode": {
    "name": "ipython",
    "version": 3
   },
   "file_extension": ".py",
   "mimetype": "text/x-python",
   "name": "python",
   "nbconvert_exporter": "python",
   "pygments_lexer": "ipython3",
   "version": "3.6.1"
  }
 },
 "nbformat": 4,
 "nbformat_minor": 2
}
